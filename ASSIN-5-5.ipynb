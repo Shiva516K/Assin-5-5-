{
 "cells": [
  {
   "cell_type": "code",
   "execution_count": 4,
   "id": "6dcff4b2",
   "metadata": {},
   "outputs": [],
   "source": [
    "class Account:\n",
    "    def __init__(self, title=None, balance=0):\n",
    "        self.title = title\n",
    "        self.balance = balance \n",
    "    \n",
    "    def withdrawal(self, amount):\n",
    "        self.balance-=amount\n",
    "\n",
    "    def deposit(self, amount):\n",
    "        \n",
    "        self.balance+=amount\n",
    "        \n",
    "    def getBalance(self):\n",
    "            return self.balance\n",
    "\n",
    "class SavingsAccount(Account):\n",
    "    def __init__(self, title=None, balance=0, interestRate=0):\n",
    "            super().__init__(title, balance)\n",
    "            self.interestRate = interestRate\n",
    "    \n",
    "    def interestAmount(self):\n",
    "        return (self.balance*self.interestRate)//100\n",
    "        \n"
   ]
  },
  {
   "cell_type": "code",
   "execution_count": 6,
   "id": "211b62b6",
   "metadata": {},
   "outputs": [],
   "source": [
    "A=SavingsAccount(\"shiva kumar\",5000,5)"
   ]
  },
  {
   "cell_type": "code",
   "execution_count": 7,
   "id": "4b2dc2b3",
   "metadata": {},
   "outputs": [],
   "source": [
    "A.balance=500"
   ]
  },
  {
   "cell_type": "code",
   "execution_count": 8,
   "id": "8fe35f05",
   "metadata": {},
   "outputs": [
    {
     "data": {
      "text/plain": [
       "2000"
      ]
     },
     "execution_count": 8,
     "metadata": {},
     "output_type": "execute_result"
    }
   ],
   "source": [
    "A.deposit(1500)\n",
    "A.getBalance()"
   ]
  },
  {
   "cell_type": "code",
   "execution_count": 9,
   "id": "7100926e",
   "metadata": {},
   "outputs": [
    {
     "data": {
      "text/plain": [
       "1500"
      ]
     },
     "execution_count": 9,
     "metadata": {},
     "output_type": "execute_result"
    }
   ],
   "source": [
    "A.withdrawal(500)\n",
    "A.getBalance()"
   ]
  },
  {
   "cell_type": "code",
   "execution_count": null,
   "id": "ba4b58c5",
   "metadata": {},
   "outputs": [],
   "source": []
  }
 ],
 "metadata": {
  "kernelspec": {
   "display_name": "Python 3 (ipykernel)",
   "language": "python",
   "name": "python3"
  },
  "language_info": {
   "codemirror_mode": {
    "name": "ipython",
    "version": 3
   },
   "file_extension": ".py",
   "mimetype": "text/x-python",
   "name": "python",
   "nbconvert_exporter": "python",
   "pygments_lexer": "ipython3",
   "version": "3.11.3"
  }
 },
 "nbformat": 4,
 "nbformat_minor": 5
}
